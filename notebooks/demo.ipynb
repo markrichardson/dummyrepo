{
 "cells": [
  {
   "cell_type": "code",
   "execution_count": null,
   "id": "cf343382",
   "metadata": {},
   "outputs": [],
   "source": [
    "import dummypy as dp"
   ]
  },
  {
   "cell_type": "code",
   "execution_count": null,
   "id": "cac95c1e",
   "metadata": {},
   "outputs": [],
   "source": [
    "grid = dp.Grid()\n",
    "grid"
   ]
  },
  {
   "cell_type": "code",
   "execution_count": null,
   "id": "6a003265",
   "metadata": {},
   "outputs": [],
   "source": [
    "grid.diff()"
   ]
  }
 ],
 "metadata": {
  "kernelspec": {
   "display_name": "dummypy (3.13.5)",
   "language": "python",
   "name": "python3"
  },
  "language_info": {
   "codemirror_mode": {
    "name": "ipython",
    "version": 3
   },
   "file_extension": ".py",
   "mimetype": "text/x-python",
   "name": "python",
   "nbconvert_exporter": "python",
   "pygments_lexer": "ipython3",
   "version": "3.13.5"
  }
 },
 "nbformat": 4,
 "nbformat_minor": 5
}
